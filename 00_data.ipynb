{
 "cells": [
  {
   "cell_type": "code",
   "execution_count": 1,
   "metadata": {},
   "outputs": [],
   "source": [
    "%load_ext autoreload\n",
    "%autoreload 2\n",
    "%matplotlib inline"
   ]
  },
  {
   "cell_type": "markdown",
   "metadata": {},
   "source": [
    "A typical and repetetive process in every deep learning project is training the neural network model. The basic "
   ]
  },
  {
   "cell_type": "markdown",
   "metadata": {},
   "source": [
    "Training neural networks is usually considered an art or [epistimilogy is some cases](https://www.youtube.com/watch?v=gG5NCkMerHU). Most of the times when working on deep learning applications, its desired that we focus on solving our problem rather than figuring out how to best train the network we come up with. Also, we do not want to write a new training loop for every new project. In that spirit, Let's define `some classes and functions` for getting `Data` in a `usable` format for `training with mini-batch SGD using backpropogation.` This will allow us to add best practices in training a model that can be shared across multiple project."
   ]
  },
  {
   "cell_type": "markdown",
   "metadata": {},
   "source": [
    "- [data-vis course](https://www.kaggle.com/learn/data-visualization-from-non-coder-to-coder)\n",
    "- [Advance NLP with spacy](https://www.datacamp.com/courses/advanced-nlp-with-spacy)"
   ]
  },
  {
   "cell_type": "markdown",
   "metadata": {
    "heading_collapsed": true
   },
   "source": [
    "### Imports"
   ]
  },
  {
   "cell_type": "code",
   "execution_count": 2,
   "metadata": {
    "hidden": true
   },
   "outputs": [],
   "source": [
    "import warnings \n",
    "warnings.filterwarnings('ignore')"
   ]
  },
  {
   "cell_type": "code",
   "execution_count": 3,
   "metadata": {
    "hidden": true
   },
   "outputs": [],
   "source": [
    "#export\n",
    "from torch import tensor\n",
    "from torch import optim \n",
    "import torch.nn as nn \n",
    "import torch.nn.functional as F\n",
    "from torch.utils.data import DataLoader, SequentialSampler, RandomSampler"
   ]
  },
  {
   "cell_type": "code",
   "execution_count": 4,
   "metadata": {
    "hidden": true
   },
   "outputs": [],
   "source": [
    "#export\n",
    "import pickle, gzip, math, torch, matplotlib as mpl\n",
    "import matplotlib.pyplot as plt\n",
    "from pathlib import Path\n",
    "import time\n",
    "from functools import partial"
   ]
  },
  {
   "cell_type": "code",
   "execution_count": 5,
   "metadata": {
    "hidden": true
   },
   "outputs": [],
   "source": [
    "#export\n",
    "from fastai import datasets"
   ]
  },
  {
   "cell_type": "code",
   "execution_count": 6,
   "metadata": {
    "hidden": true
   },
   "outputs": [],
   "source": [
    "#export\n",
    "from fastprogress import master_bar, progress_bar\n",
    "from fastprogress.fastprogress import format_time"
   ]
  },
  {
   "cell_type": "markdown",
   "metadata": {
    "heading_collapsed": true
   },
   "source": [
    "### Metrics"
   ]
  },
  {
   "cell_type": "code",
   "execution_count": 7,
   "metadata": {
    "hidden": true
   },
   "outputs": [],
   "source": [
    "#export\n",
    "def accuracy(out, yb): return (torch.argmax(out, dim=1)==yb).float().mean()"
   ]
  },
  {
   "cell_type": "markdown",
   "metadata": {},
   "source": [
    "### Data, Model and Optimizer"
   ]
  },
  {
   "cell_type": "markdown",
   "metadata": {},
   "source": [
    "Every machine learning project starts with gathering data that we would like to analyze and build models on."
   ]
  },
  {
   "cell_type": "markdown",
   "metadata": {},
   "source": [
    "First, we will define a function called `get_data` that get's (downloads) our data and converts it into tensor format so that we can utilize our GPU's."
   ]
  },
  {
   "cell_type": "code",
   "execution_count": 8,
   "metadata": {},
   "outputs": [],
   "source": [
    "#export\n",
    "def get_mnist_data(MNIST_URL='http://deeplearning.net/data/mnist/mnist.pkl'):\n",
    "    path = datasets.download_data(MNIST_URL, ext='.gz')\n",
    "    with gzip.open(path, 'rb') as f:\n",
    "        ((x_train, y_train), (x_valid, y_valid), _) = pickle.load(f, encoding='latin-1')\n",
    "    return map(tensor, (x_train,y_train,x_valid,y_valid))"
   ]
  },
  {
   "cell_type": "markdown",
   "metadata": {},
   "source": [
    "In order to iterate through our dataset one mini-batch at a time efficiently and in a readable way, We will use `Pytorch's Dataloader` class which is a generator generating our x's and y's on mini-batch at a time. Dataloader expects a Dataset which is a class that allows to index into the dataset to grab a specfic data point. This can be implemented by overriding `__getitem__` function of the class. We will also override `__len__` function to make it easy to get total length of out dataset."
   ]
  },
  {
   "cell_type": "code",
   "execution_count": 9,
   "metadata": {},
   "outputs": [],
   "source": [
    "#export\n",
    "class Dataset():\n",
    "    def __init__(self, x, y): self.x,self.y = x,y\n",
    "    def __len__(self): return len(self.x)\n",
    "    def __getitem__(self, i): return self.x[i],self.y[i]"
   ]
  },
  {
   "cell_type": "markdown",
   "metadata": {},
   "source": [
    "Let's also write a convienient function that takes training dataset and validation dataset and return respective dataloaders. We will also `shuffle` our training set every epoch to introduce some randomisation so that network doesn't learn's a specific order in our data. The Dataloader class also take a parameter `batch_size` which is usually determined by memory of the GPU's we have. Because, we never do backprop during validation set, we can have the `double batch_size` during that period as compared to training phase."
   ]
  },
  {
   "cell_type": "code",
   "execution_count": 10,
   "metadata": {},
   "outputs": [],
   "source": [
    "#export\n",
    "def get_dls(train_ds, valid_ds, bs, **kwargs):\n",
    "    return (DataLoader(train_ds, batch_size=bs, shuffle=True, num_workers=4, **kwargs),\n",
    "            DataLoader(valid_ds, batch_size=bs*2, num_workers=4, **kwargs))"
   ]
  },
  {
   "cell_type": "markdown",
   "metadata": {},
   "source": [
    "Now' lets wrap our dataloaders into a `Databunch` class which just acts as a storage device. We will also make the underlying dataset accesible so that if we want to change it later, we can. Why would we want to do that is an excersise for the reader ;). One will also notice a variable called `c_out`, which is basically the number of classes we are trying to classify. We can automatically detect this from our `labels`, so why not just automate it so that we can decide last layer's number of outputs automatically !."
   ]
  },
  {
   "cell_type": "code",
   "execution_count": 11,
   "metadata": {},
   "outputs": [],
   "source": [
    "#export\n",
    "class DataBunch():\n",
    "    def __init__(self, train_dl, valid_dl, c_out=None):\n",
    "        self.train_dl,self.valid_dl,self.c_out = train_dl,valid_dl,c_out\n",
    "        \n",
    "    @property\n",
    "    def train_ds(self): return self.train_dl.dataset\n",
    "        \n",
    "    @property\n",
    "    def valid_ds(self): return self.valid_dl.dataset"
   ]
  },
  {
   "cell_type": "markdown",
   "metadata": {},
   "source": [
    "Now let's use our functions to get the databunch. Along the we will also see what each of the functions and classes defined above takes as input and produces as output."
   ]
  },
  {
   "cell_type": "markdown",
   "metadata": {},
   "source": [
    "First, we will use `get_data` function so that we can have our data in tensor format."
   ]
  },
  {
   "cell_type": "code",
   "execution_count": 12,
   "metadata": {},
   "outputs": [],
   "source": [
    "x_train,y_train,x_valid,y_valid = get_mnist_data()"
   ]
  },
  {
   "cell_type": "markdown",
   "metadata": {},
   "source": [
    "Now, lets check the shapes of things returned by `get_data` function."
   ]
  },
  {
   "cell_type": "code",
   "execution_count": 13,
   "metadata": {},
   "outputs": [
    {
     "data": {
      "text/plain": [
       "(torch.Size([50000, 784]),\n",
       " torch.Size([50000]),\n",
       " torch.Size([10000, 784]),\n",
       " torch.Size([10000]))"
      ]
     },
     "execution_count": 13,
     "metadata": {},
     "output_type": "execute_result"
    }
   ],
   "source": [
    "x_train.shape , y_train.shape, x_valid.shape, y_valid.shape"
   ]
  },
  {
   "cell_type": "markdown",
   "metadata": {},
   "source": [
    "As you might have guessed if you are following along, here we are working with MNIST dataset. Why ?? We need a toy dataset to quickly validate our infrastructure. The goal here is to build a flexible dataloading and training loop and not designing architectures."
   ]
  },
  {
   "cell_type": "markdown",
   "metadata": {},
   "source": [
    "So, we have `50000 x_train` datapoints each with `y_train`. The x's are flattened images of handwritten digits and the ys are their actual digits in those images."
   ]
  },
  {
   "cell_type": "markdown",
   "metadata": {},
   "source": [
    "Now lets create a Dataset for each of our training and validation dataset."
   ]
  },
  {
   "cell_type": "code",
   "execution_count": 14,
   "metadata": {},
   "outputs": [],
   "source": [
    "train_ds,valid_ds = Dataset(x_train, y_train),Dataset(x_valid, y_valid)"
   ]
  },
  {
   "cell_type": "markdown",
   "metadata": {},
   "source": [
    "Now let's create our dataloaders, so that we can iterate through our dataset in mini-batches. We will define our batch_size to be equal to 512."
   ]
  },
  {
   "cell_type": "code",
   "execution_count": 15,
   "metadata": {},
   "outputs": [],
   "source": [
    "c = y_train.max().item()+1\n",
    "bs=512\n",
    "data = DataBunch(*get_dls(train_ds, valid_ds, bs), c)"
   ]
  },
  {
   "cell_type": "markdown",
   "metadata": {},
   "source": [
    "Since it's a classification task, we will be using `categorical_cross_entropy` function as our loss function."
   ]
  },
  {
   "cell_type": "code",
   "execution_count": 16,
   "metadata": {},
   "outputs": [],
   "source": [
    "loss_func = F.cross_entropy"
   ]
  },
  {
   "cell_type": "code",
   "execution_count": 17,
   "metadata": {},
   "outputs": [],
   "source": [
    "nh = 50"
   ]
  },
  {
   "cell_type": "markdown",
   "metadata": {},
   "source": [
    "Since our goal is little different in this notebook, we will just define a simple one layer neural network with hidden activation size of `50`. We also need a optimizer *(more on this in a later post)*. At a high level, optimizer is the thing resposible for updating out weights and biases while doing stochastic mini-batch gradient descent. Let's wrap the model and the optimizer in a convienient function called `get_model`."
   ]
  },
  {
   "cell_type": "code",
   "execution_count": 18,
   "metadata": {},
   "outputs": [],
   "source": [
    "#export\n",
    "def get_model(data, nh=50, lr=0.1):\n",
    "    m = data.train_ds.x.shape[1]\n",
    "    model = nn.Sequential(nn.Linear(m, nh), nn.ReLU(), nn.Linear(nh, data.c_out))\n",
    "    return model, optim.SGD(model.parameters(), lr=lr)"
   ]
  },
  {
   "cell_type": "markdown",
   "metadata": {},
   "source": [
    "### A detour: Callbacks in Python"
   ]
  },
  {
   "cell_type": "markdown",
   "metadata": {},
   "source": [
    "Let's write a utility function that converts a string in `CamelCase` format to a `Snake` format. We will use this functions to register our Callback's name with python in snake format."
   ]
  },
  {
   "cell_type": "code",
   "execution_count": 19,
   "metadata": {},
   "outputs": [],
   "source": [
    "#export\n",
    "import re\n",
    "\n",
    "_camel_re1 = re.compile('(.)([A-Z][a-z]+)')\n",
    "_camel_re2 = re.compile('([a-z0-9])([A-Z])')\n",
    "def camel2snake(name):\n",
    "    s1 = re.sub(_camel_re1, r'\\1_\\2', name)\n",
    "    s2 =  re.sub(_camel_re2, r'\\1_\\2', s1)\n",
    "    return s2.lower()"
   ]
  },
  {
   "cell_type": "markdown",
   "metadata": {},
   "source": [
    "Let's use this function on a couple of strings so that we get comfortable with it."
   ]
  },
  {
   "cell_type": "code",
   "execution_count": 20,
   "metadata": {},
   "outputs": [
    {
     "data": {
      "text/plain": [
       "'hello_world_good_morning_how_are_you'"
      ]
     },
     "execution_count": 20,
     "metadata": {},
     "output_type": "execute_result"
    }
   ],
   "source": [
    "camel2snake(\"HelloWorldGoodMorningHowAreYou\")"
   ]
  },
  {
   "cell_type": "code",
   "execution_count": 21,
   "metadata": {},
   "outputs": [
    {
     "data": {
      "text/plain": [
       "'deep_learning_is_amazing'"
      ]
     },
     "execution_count": 21,
     "metadata": {},
     "output_type": "execute_result"
    }
   ],
   "source": [
    "camel2snake(\"DeepLearningIsAmazing\")"
   ]
  },
  {
   "cell_type": "markdown",
   "metadata": {},
   "source": [
    "Let's write a function which calulates the sum of squares upto a given number. We will also sleep the process for 1 second, so that we can mimic a heavy processing function."
   ]
  },
  {
   "cell_type": "code",
   "execution_count": 22,
   "metadata": {},
   "outputs": [],
   "source": [
    "from time import sleep "
   ]
  },
  {
   "cell_type": "code",
   "execution_count": 23,
   "metadata": {},
   "outputs": [],
   "source": [
    "def sum_of_squares(n):\n",
    "    res = 0\n",
    "    for i in range(n+1):\n",
    "        res += i*i\n",
    "        sleep(1)\n",
    "    return res"
   ]
  },
  {
   "cell_type": "markdown",
   "metadata": {},
   "source": [
    "let's use the function to calulate some sum of squares."
   ]
  },
  {
   "cell_type": "code",
   "execution_count": 24,
   "metadata": {},
   "outputs": [
    {
     "name": "stdout",
     "output_type": "stream",
     "text": [
      "CPU times: user 0 ns, sys: 4 ms, total: 4 ms\n",
      "Wall time: 4 s\n"
     ]
    },
    {
     "data": {
      "text/plain": [
       "14"
      ]
     },
     "execution_count": 24,
     "metadata": {},
     "output_type": "execute_result"
    }
   ],
   "source": [
    "%time sum_of_squares(3)"
   ]
  },
  {
   "cell_type": "markdown",
   "metadata": {},
   "source": [
    "The function took `4secs` to compute. Now, if you are as impatient as me...you would have liked to see what's happening while the result is being computed. Some kind of progress report ? Rather than bloating our core function with progress logic, we will write our progress logic in a different function and then pass that function to `sum_of_squares`. It can callback the progress function after every loop. We will have to edit our `sum_of_squares` function with a generic function call after the loop, so that it call any user passed function. "
   ]
  },
  {
   "cell_type": "code",
   "execution_count": 25,
   "metadata": {},
   "outputs": [],
   "source": [
    "def sum_of_squares(n, cb=None):\n",
    "    res = 0\n",
    "    for i in range(n+1):\n",
    "        res += i*i\n",
    "        sleep(1)\n",
    "        if cb: cb(i)\n",
    "    return res"
   ]
  },
  {
   "cell_type": "markdown",
   "metadata": {},
   "source": [
    "Now let's write are `show_progress` function."
   ]
  },
  {
   "cell_type": "code",
   "execution_count": 26,
   "metadata": {},
   "outputs": [],
   "source": [
    "def show_progress(i):\n",
    "    print(f\"Awesome !!!, We have finished Epoch {i}\")"
   ]
  },
  {
   "cell_type": "markdown",
   "metadata": {},
   "source": [
    "Now let's call our sum of squares function with `show_progress` function."
   ]
  },
  {
   "cell_type": "code",
   "execution_count": 27,
   "metadata": {},
   "outputs": [
    {
     "name": "stdout",
     "output_type": "stream",
     "text": [
      "Awesome !!!, We have finished Epoch 0\n",
      "Awesome !!!, We have finished Epoch 1\n",
      "Awesome !!!, We have finished Epoch 2\n",
      "Awesome !!!, We have finished Epoch 3\n",
      "CPU times: user 4 ms, sys: 0 ns, total: 4 ms\n",
      "Wall time: 4 s\n"
     ]
    },
    {
     "data": {
      "text/plain": [
       "14"
      ]
     },
     "execution_count": 27,
     "metadata": {},
     "output_type": "execute_result"
    }
   ],
   "source": [
    "%time sum_of_squares(3, show_progress)"
   ]
  },
  {
   "cell_type": "markdown",
   "metadata": {},
   "source": [
    "Awesome, our function caluclated the same thing but this time we could see the progress it did also. Now, we will make our function and the callback `show_progress` more flexible. Next, let's add the functionality so that a user can define what `exclamation` they wish to define rather that our hardcoded `Awesome`."
   ]
  },
  {
   "cell_type": "code",
   "execution_count": 28,
   "metadata": {},
   "outputs": [],
   "source": [
    "def show_progress(exclamation, epoch):\n",
    "    print(f\"{exclamation} !!!, We have finished Epoch {epoch}\")"
   ]
  },
  {
   "cell_type": "markdown",
   "metadata": {},
   "source": [
    "Our `sum_of_squares` expects a callback that takes only one input where as our updated `show_progress` takes two. We will use `partials` to convert our function that takes two arguments into a function that take one argument. Partials allow us to partially apply a function. We can do this because functions are first order things in Python."
   ]
  },
  {
   "cell_type": "code",
   "execution_count": 29,
   "metadata": {},
   "outputs": [],
   "source": [
    "def make_show_progress(exclamation):\n",
    "    def _inner(epoch):  print(f\"{exclamation} !!!, We have finished Epoch {epoch}\")\n",
    "    return _inner"
   ]
  },
  {
   "cell_type": "code",
   "execution_count": 30,
   "metadata": {},
   "outputs": [
    {
     "name": "stdout",
     "output_type": "stream",
     "text": [
      "Nice! !!!, We have finished Epoch 0\n",
      "Nice! !!!, We have finished Epoch 1\n",
      "Nice! !!!, We have finished Epoch 2\n",
      "Nice! !!!, We have finished Epoch 3\n",
      "Nice! !!!, We have finished Epoch 4\n",
      "CPU times: user 4 ms, sys: 0 ns, total: 4 ms\n",
      "Wall time: 5.01 s\n"
     ]
    },
    {
     "data": {
      "text/plain": [
       "30"
      ]
     },
     "execution_count": 30,
     "metadata": {},
     "output_type": "execute_result"
    }
   ],
   "source": [
    "%time sum_of_squares(4, make_show_progress(\"Nice!\"))"
   ]
  },
  {
   "cell_type": "markdown",
   "metadata": {},
   "source": [
    "Nice !!!, Let's try it with a different exclamation token."
   ]
  },
  {
   "cell_type": "code",
   "execution_count": 31,
   "metadata": {},
   "outputs": [
    {
     "name": "stdout",
     "output_type": "stream",
     "text": [
      "Terrific! !!!, We have finished Epoch 0\n",
      "Terrific! !!!, We have finished Epoch 1\n",
      "Terrific! !!!, We have finished Epoch 2\n",
      "Terrific! !!!, We have finished Epoch 3\n",
      "Terrific! !!!, We have finished Epoch 4\n",
      "CPU times: user 0 ns, sys: 4 ms, total: 4 ms\n",
      "Wall time: 5.01 s\n"
     ]
    },
    {
     "data": {
      "text/plain": [
       "30"
      ]
     },
     "execution_count": 31,
     "metadata": {},
     "output_type": "execute_result"
    }
   ],
   "source": [
    "%time sum_of_squares(4, make_show_progress(\"Terrific!\"))"
   ]
  },
  {
   "cell_type": "markdown",
   "metadata": {},
   "source": [
    "Terrific !!!. It's kind of annoying that every time we call our function with the callback, we loose our stat in callback. Wouldn't it be nice to store things like how long our function took to complete. Let's convert our our callback function into a callback class so that we retain the state. "
   ]
  },
  {
   "cell_type": "code",
   "execution_count": 32,
   "metadata": {},
   "outputs": [],
   "source": [
    "class ProgressShowingCallback():\n",
    "    def __init__(self, exclamation=\"Awesome\"): self.exclamation = exclamation\n",
    "    def __call__(self, epoch): print(f\"{self.exclamation}! We've finished epoch {epoch}!\")"
   ]
  },
  {
   "cell_type": "code",
   "execution_count": 33,
   "metadata": {},
   "outputs": [],
   "source": [
    "cb = ProgressShowingCallback(\"Terrific\")"
   ]
  },
  {
   "cell_type": "code",
   "execution_count": 34,
   "metadata": {},
   "outputs": [
    {
     "name": "stdout",
     "output_type": "stream",
     "text": [
      "Terrific! We've finished epoch 0!\n",
      "Terrific! We've finished epoch 1!\n",
      "Terrific! We've finished epoch 2!\n",
      "Terrific! We've finished epoch 3!\n",
      "Terrific! We've finished epoch 4!\n"
     ]
    },
    {
     "data": {
      "text/plain": [
       "30"
      ]
     },
     "execution_count": 34,
     "metadata": {},
     "output_type": "execute_result"
    }
   ],
   "source": [
    "sum_of_squares(4, cb)"
   ]
  },
  {
   "cell_type": "markdown",
   "metadata": {},
   "source": [
    "We have introduced a new concept here. That `__call__` thingy. Python has some dunder functions *(yes, that's how we pronounce them)* that get called at some point in the objects lifecycle. `__call__` gets called when we use a object instance of that class as a function, like we did while calling `sum_of_squares` with `cb`. Adimitedly we could have defined a normal function like `callback` and then passed `cb.callback` but doesn't our approach makes things cleaner ? That's the only reason we defined our behaviour on `__call__`."
   ]
  },
  {
   "cell_type": "markdown",
   "metadata": {},
   "source": [
    "As you can probably notice by now: we have been able to modify behaviour of our `sum_of_squares` funtion by writing a completely seprate class and hence not bloating the calculation logic.\n",
    "\n",
    "> This is what `Callbacks` allow us to do. `Modify the behaviour` of some underlying function by `writing seprate concise classes` hence keeping the underlying function concise, readable and error prone.\n",
    "\n",
    "Now, you might be thingking hang on, where did we modify the behaviour of the function. Weren't we just priting stuff ? Yes, you are write. So let's fix that and also modify the behaviour of the `sum_of_squares` function."
   ]
  },
  {
   "cell_type": "markdown",
   "metadata": {},
   "source": [
    "Let's wrap our caculation inside a class called `ShowCalulator`. This will allow us to inject behaviour at multiple places during the computation with same callback. We initialize it with upto what `number we want sum of squares` and `optionally our callback`."
   ]
  },
  {
   "cell_type": "code",
   "execution_count": 35,
   "metadata": {},
   "outputs": [],
   "source": [
    "class SlowCalculator():\n",
    "    def __init__(self, n, cb=None): self.n,self.cb,self.res = n,cb,0\n",
    "    \n",
    "    def __call__(self, cb_name, *args):\n",
    "        if not self.cb: return\n",
    "        cb = getattr(self.cb,cb_name, None)\n",
    "        if cb: return cb(self, *args)\n",
    "\n",
    "    def calc(self):\n",
    "        for i in range(self.n+1):\n",
    "            self('before_calc', i)\n",
    "            self.res += i*i\n",
    "            sleep(1)\n",
    "            if self('after_calc', i):\n",
    "                print(\"stopping early\")\n",
    "                break"
   ]
  },
  {
   "cell_type": "markdown",
   "metadata": {},
   "source": [
    "Our `calc` function now has two `callback points`, called `before_calc` and `after_calc`. If the `after_calc` callback returns true, we will break and stop the computation *(modifying behaviour)*. Our ``__call__`` function now check with `getattr` if callabck has the function, if it has it calls that function. That's how we are able to get multiple callback points with one single callback."
   ]
  },
  {
   "cell_type": "markdown",
   "metadata": {},
   "source": [
    "Now, we can create our `Modifying Callback` which will have to points `before_calc` which will print result when computation is about to start and `after_calc` which will print result and when the result gets larger than 10 it will stop the computation."
   ]
  },
  {
   "cell_type": "code",
   "execution_count": 36,
   "metadata": {},
   "outputs": [],
   "source": [
    "class ModifyingCallback():\n",
    "    \n",
    "    def before_calc(self, calc, i):\n",
    "        print(f\"Starting Epoch {i}: res: {calc.res}\")\n",
    "        \n",
    "    def after_calc (self, calc, epoch):\n",
    "        print(f\"After {epoch}: {calc.res}\")\n",
    "        if calc.res>10: return True\n",
    "        if calc.res<3: calc.res = calc.res*2"
   ]
  },
  {
   "cell_type": "code",
   "execution_count": 37,
   "metadata": {},
   "outputs": [],
   "source": [
    "calculator = SlowCalculator(5, ModifyingCallback())"
   ]
  },
  {
   "cell_type": "code",
   "execution_count": 38,
   "metadata": {},
   "outputs": [
    {
     "name": "stdout",
     "output_type": "stream",
     "text": [
      "Starting Epoch 0: res: 0\n",
      "After 0: 0\n",
      "Starting Epoch 1: res: 0\n",
      "After 1: 1\n",
      "Starting Epoch 2: res: 2\n",
      "After 2: 6\n",
      "Starting Epoch 3: res: 6\n",
      "After 3: 15\n",
      "stopping early\n"
     ]
    }
   ],
   "source": [
    "calculator.calc()"
   ]
  },
  {
   "cell_type": "code",
   "execution_count": 39,
   "metadata": {},
   "outputs": [
    {
     "data": {
      "text/plain": [
       "15"
      ]
     },
     "execution_count": 39,
     "metadata": {},
     "output_type": "execute_result"
    }
   ],
   "source": [
    "calculator.res"
   ]
  },
  {
   "cell_type": "markdown",
   "metadata": {},
   "source": [
    "What we have implemented is a general purpose callback system that can be used to inject behaviour in the underlying class `(ShowCalculator)` at any number of points."
   ]
  },
  {
   "cell_type": "markdown",
   "metadata": {},
   "source": [
    "Since, in typical training loop of a deep learning system performs a set of predifined steps `(get a batch of data, pass it through the model, calculate loss function, calculate gradients using backprop, update parameters and zero gradients)`. So, we will use this concept to write a flexible training loop so that we can inject behaviour at any of those  of those predefined steps. "
   ]
  },
  {
   "cell_type": "markdown",
   "metadata": {},
   "source": [
    "### Callback class "
   ]
  },
  {
   "cell_type": "markdown",
   "metadata": {},
   "source": [
    "[Python's @property tutorial](https://www.programiz.com/python-programming/property)"
   ]
  },
  {
   "cell_type": "markdown",
   "metadata": {},
   "source": [
    "Let's first write a base Callback class, that checks through `__call__`, if the function is there and if its present, it calls it. We will also change the name of callback from camel case to snake format. Let's not worry too much about `_order`, `set_runner` and `_getattr` at this moment. We will comeback to this later."
   ]
  },
  {
   "cell_type": "code",
   "execution_count": 40,
   "metadata": {},
   "outputs": [],
   "source": [
    "#export\n",
    "class Callback():\n",
    "    _order=0\n",
    "    def set_runner(self, run): self.run=run\n",
    "    def __getattr__(self, k): return getattr(self.run, k)\n",
    "    \n",
    "    @property\n",
    "    def name(self):\n",
    "        name = re.sub(r'Callback$', '', self.__class__.__name__)\n",
    "        return camel2snake(name or 'callback')\n",
    "    \n",
    "    def __call__(self, cb_name):\n",
    "        f = getattr(self, cb_name, None)\n",
    "        if f and f(): return True\n",
    "        return False"
   ]
  },
  {
   "cell_type": "markdown",
   "metadata": {},
   "source": [
    "Usually when we are training a model, we train it for a epoch and then evaluate it on the validation set. During validation we turn the model into evaluation format so that we do not update weights. Let's write our first callback to put model in training at the begining of epoch: `begin_epoch` and in validation: `begin_validate` function. "
   ]
  },
  {
   "cell_type": "code",
   "execution_count": 41,
   "metadata": {},
   "outputs": [],
   "source": [
    "#export\n",
    "class TrainEvalCallback(Callback):\n",
    "    def begin_fit(self):\n",
    "        self.run.n_epochs=0.\n",
    "        self.run.n_iter=0\n",
    "    \n",
    "    def after_batch(self):\n",
    "        if not self.in_train: return\n",
    "        self.run.n_epochs += 1./self.iters\n",
    "        self.run.n_iter   += 1\n",
    "        \n",
    "    def begin_epoch(self):\n",
    "        self.run.n_epochs=self.epoch\n",
    "        self.model.train()\n",
    "        self.run.in_train=True\n",
    "\n",
    "    def begin_validate(self):\n",
    "        self.model.eval()\n",
    "        self.run.in_train=False"
   ]
  },
  {
   "cell_type": "markdown",
   "metadata": {},
   "source": [
    "We might have to cancel the training either after `training`, after an `Epoch` or `Batch`. Let's define empty exception classes for each so that we can exit neatly at those points."
   ]
  },
  {
   "cell_type": "code",
   "execution_count": 42,
   "metadata": {},
   "outputs": [],
   "source": [
    "#export\n",
    "class CancelTrainException(Exception): pass\n",
    "class CancelEpochException(Exception): pass\n",
    "class CancelBatchException(Exception): pass"
   ]
  },
  {
   "cell_type": "markdown",
   "metadata": {},
   "source": [
    "Remember, we defined a `name` function in our base Callback class. This allows us to change the name of the class name to snake format and remove the training callback string."
   ]
  },
  {
   "cell_type": "code",
   "execution_count": 43,
   "metadata": {},
   "outputs": [
    {
     "data": {
      "text/plain": [
       "'train_eval'"
      ]
     },
     "execution_count": 43,
     "metadata": {},
     "output_type": "execute_result"
    }
   ],
   "source": [
    "TrainEvalCallback().name"
   ]
  },
  {
   "cell_type": "markdown",
   "metadata": {},
   "source": [
    "Now, let's define a utility function called `listify` which will turn a set of objects into a python `list`"
   ]
  },
  {
   "cell_type": "code",
   "execution_count": 44,
   "metadata": {},
   "outputs": [],
   "source": [
    "#export\n",
    "from typing import *\n",
    "\n",
    "def listify(o):\n",
    "    if o is None: return []\n",
    "    if isinstance(o, list): return o\n",
    "    if isinstance(o, str): return [o]\n",
    "    if isinstance(o, Iterable): return list(o)\n",
    "    return [o]"
   ]
  },
  {
   "cell_type": "markdown",
   "metadata": {},
   "source": [
    "- https://nbviewer.jupyter.org/github/fastai/fastai_docs/blob/master/dev_course/dl2/09b_learner.ipynb\n",
    "- https://nbviewer.jupyter.org/github/fastai/fastai_docs/blob/master/dev_course/dl2/04_callbacks.ipynb\n",
    "- https://www.autodeskresearch.com/publications/samestats\n",
    "- https://forums.fast.ai/uploads/default/original/3X/a/3/a3eecbbffd66da600b7ad0b2ad4250c8ed1a682c.png"
   ]
  },
  {
   "cell_type": "markdown",
   "metadata": {},
   "source": [
    "A deep learning model has lot of surrounding pieces associated with, namely the `model`, `optimizer`, `loss_func` and `databunch`. Let's write a storage class called `Learner` which just stores all this which will make it easy for us to access these when required."
   ]
  },
  {
   "cell_type": "code",
   "execution_count": 45,
   "metadata": {},
   "outputs": [],
   "source": [
    "#export\n",
    "class Learner():\n",
    "    def __init__(self, model, opt, loss_func, data):\n",
    "        self.model,self.opt,self.loss_func,self.data = model,opt,loss_func,data"
   ]
  },
  {
   "cell_type": "markdown",
   "metadata": {},
   "source": [
    "### Runner: Writing a flexible training loop"
   ]
  },
  {
   "cell_type": "markdown",
   "metadata": {},
   "source": [
    "Now, we will define our main class called `Runner`. It will be responsible for `registering callback`, `calling callbacks` at appropriate time and `carrying out the training of our model`. It has a lot of code, so we will discuss each function one by one.\n",
    "\n",
    "- `Runner.__init__`: takes `cbs` a.k.a. *callbacks* and `cb_funcs` a.k.a *partially applied callback functions*.\n",
    "    - It first turns the `cbs` into a list if they are not. \n",
    "    - Goes through each `cb_funcs`, calls it, sets the name atrribute to the callback use name function and appends to the list of callback\n",
    "    - Registers a `stop` valiable and initializes to `False`.\n",
    "    - Registers a `cbs variable with a list of callbacks ` that has TrainEvalCallback and cbs.\n",
    "    \n",
    "    \n",
    " \n",
    "- `Runner.opt`: An accessor to `optimizer` inside the learner object.\n",
    "- `Runner.model`: An accessor to `model` inside the learner object.\n",
    "- `Runner.loss_func`: An accessor to `loss_func` inside the learner object.\n",
    "- `Runner.data`: An accessor to `data` inside the learner object.\n",
    "\n",
    "\n",
    "- `Runner.__call__`\n",
    "    - Goes through all the registered callbacks in `self.cbs` in `_order`, and calls the callback and returns if the callback returns something.\n",
    "    \n",
    "    \n",
    "- `Runner.all_batches`:\n",
    "    - Registers a `iters` variable.\n",
    "    - Loops through all the mini-batches in the dataloader and calls `one_batch`.\n",
    "    \n",
    "    \n",
    "- `Runner.one_batch`:\n",
    "    - It gets one batch of `x's` and `y's` and registers to the variable. \n",
    "    - Calls `begin_batch` callback functions for all registered callbacks. \n",
    "    - Passes the `xb` into the model and registers the result into `pred`. \n",
    "    - Calls `after_pred` callback functions for all registered callbacks. \n",
    "    - Calculates the loss between `pred` and `ys` using `loss_func` and register to the class.\n",
    "    - Calls `after_loss` callback functions for all registered callbacks. \n",
    "    - Returns if the model is in `validation` mode, checked through `not self.in_train`.\n",
    "    - Calls `after_loss` callback functions for all registered callbacks. \n",
    "    - Calculates the gradient with respect to the weights by calling `loss.backward()`.\n",
    "    - Updates the parameters in the optimizer by calling `opt.step()`\n",
    "    - Calls `after_step` callback functions for all registered callbacks. \n",
    "    - Zeros the gradients so there is accumlation for the next batch.\n",
    "    - If the callbacks have a `CancelBatchException` then breaks calls `after_cancel_batch` callback functions for all registered callbacks.\n",
    "    - And finally, calls `after_batch` callback functions for all registered callbacks.\n",
    "    \n",
    "- `Runner.fit`: \n",
    "    - Recieves, number of `epochs` to train for, the `learn` object.\n",
    "    - Registers `epoch` and `learn`. Also initializes the `loss` to `0`. \n",
    "    - Tries:\n",
    "        - Sets the runner object inside all the callbacks by looping through all of them and calling `set_runner` function. That's what `set_runner does that we defined in our base Callback function.\n",
    "        - Calls `begin_fit` callback functions for all registered callbacks.\n",
    "        - Iterates for epoch times, doing:\n",
    "            - Calls `begin_epoch` callback functions for all registered callbacks.\n",
    "            - If none of them break: goes on to call `all_batches` with the training data.\n",
    "            - Then inside a with block to avoid calculating grad, Calls `begin_validate` callback functions for all registered callbacks. If none of them break then, \n",
    "            - Calls the `all_batches` on validation dataloader. \n",
    "            - Then, Calls `after_fit` callback functions for all registered callbacks.\n",
    "    - If there is  `CancelTrainException`, then stops the training and calls `after_cancel_train` function for all the registered callbacks. \n",
    "    - Finally, calls `after_fit` function for all the registered callbacks.\n",
    "    - And sets the `learn` object to none. So we dont accedently call fit again."
   ]
  },
  {
   "cell_type": "markdown",
   "metadata": {},
   "source": [
    "That completes our, possibly the longest class. It's ok if you didn't understand everything. Rewatch the `fast.ai` lecture again, read this again untill you understand."
   ]
  },
  {
   "cell_type": "code",
   "execution_count": 46,
   "metadata": {},
   "outputs": [],
   "source": [
    "#export\n",
    "class Runner():\n",
    "    def __init__(self, cbs=None, cb_funcs=None):\n",
    "        cbs = listify(cbs)\n",
    "        for cbf in listify(cb_funcs):\n",
    "            cb = cbf()\n",
    "            setattr(self, cb.name, cb)\n",
    "            cbs.append(cb)\n",
    "        self.stop,self.cbs = False,[TrainEvalCallback()]+cbs\n",
    "\n",
    "    @property\n",
    "    def opt(self):       return self.learn.opt\n",
    "    @property\n",
    "    def model(self):     return self.learn.model\n",
    "    @property\n",
    "    def loss_func(self): return self.learn.loss_func\n",
    "    @property\n",
    "    def data(self):      return self.learn.data\n",
    "\n",
    "    def one_batch(self, xb, yb):\n",
    "        try:\n",
    "            self.xb,self.yb = xb,yb\n",
    "            self('begin_batch')\n",
    "            self.pred = self.model(self.xb)\n",
    "            self('after_pred')\n",
    "            self.loss = self.loss_func(self.pred, self.yb)\n",
    "            self('after_loss')\n",
    "            if not self.in_train: return\n",
    "            self.loss.backward()\n",
    "            self('after_backward')\n",
    "            self.opt.step()\n",
    "            self('after_step')\n",
    "            self.opt.zero_grad()\n",
    "        except CancelBatchException: self('after_cancel_batch')\n",
    "        finally: self('after_batch')\n",
    "\n",
    "    def all_batches(self, dl):\n",
    "        self.iters = len(dl)\n",
    "        try:\n",
    "            for xb,yb in progress_bar(dl, parent=self.mbar): self.one_batch(xb, yb)\n",
    "        except CancelEpochException: self('after_cancel_epoch')\n",
    "\n",
    "    def fit(self, epochs, learn):\n",
    "        self.epochs,self.learn,self.loss = epochs,learn,tensor(0.)\n",
    "\n",
    "        try:\n",
    "            for cb in self.cbs: cb.set_runner(self)\n",
    "            self.mbar = master_bar(range(epochs))\n",
    "            self('begin_fit')\n",
    "            for epoch in self.mbar:\n",
    "                self.epoch = epoch\n",
    "                if not self('begin_epoch'): self.all_batches(self.data.train_dl)\n",
    "\n",
    "                with torch.no_grad(): \n",
    "                    if not self('begin_validate'): self.all_batches(self.data.valid_dl)\n",
    "                self('after_epoch')\n",
    "            \n",
    "        except CancelTrainException: self('after_cancel_train')\n",
    "        finally:\n",
    "            self('after_fit')\n",
    "            self.learn = None\n",
    "\n",
    "    def __call__(self, cb_name):\n",
    "        res = False\n",
    "        for cb in sorted(self.cbs, key=lambda x: x._order): res = cb(cb_name) and res\n",
    "        return res"
   ]
  },
  {
   "cell_type": "markdown",
   "metadata": {},
   "source": [
    "Now that we have written our training loop, we can train the our models. So let's train one."
   ]
  },
  {
   "cell_type": "code",
   "execution_count": 47,
   "metadata": {},
   "outputs": [],
   "source": [
    "model, opt = get_model(data)\n",
    "learn = Learner(model, opt, loss_func, data)\n",
    "run = Runner()"
   ]
  },
  {
   "cell_type": "code",
   "execution_count": 48,
   "metadata": {},
   "outputs": [
    {
     "data": {
      "text/html": [
       "Total time: 00:10 <p>"
      ],
      "text/plain": [
       "<IPython.core.display.HTML object>"
      ]
     },
     "metadata": {},
     "output_type": "display_data"
    }
   ],
   "source": [
    "run.fit(5,learn)"
   ]
  },
  {
   "cell_type": "markdown",
   "metadata": {},
   "source": [
    "Uh oh, what just happened ? We got back nothing. That's because we never printed or told our loop to report back stuff. But our `run` object has all the state we will want, we just need to intercept them at appropriate time during training and format them in a readable format."
   ]
  },
  {
   "cell_type": "code",
   "execution_count": 49,
   "metadata": {},
   "outputs": [
    {
     "data": {
      "text/plain": [
       "(5,\n",
       " False,\n",
       " 10,\n",
       " [<__main__.TrainEvalCallback at 0x7f613e75bb00>],\n",
       " tensor(0.2900),\n",
       " torch.Size([784, 10]))"
      ]
     },
     "execution_count": 49,
     "metadata": {},
     "output_type": "execute_result"
    }
   ],
   "source": [
    "run.epochs, run.in_train, run.iters, run.cbs, run.loss, run.pred.shape"
   ]
  },
  {
   "cell_type": "markdown",
   "metadata": {},
   "source": [
    "But aren't we supposed to track what happens after very epoch ? Yes. So, lets write a `callback` to report back to us some `metrics`. In particular we would like to see `train_loss`, `valid_loss`, `train_accuracy` and `valid_accuracy`."
   ]
  },
  {
   "cell_type": "markdown",
   "metadata": {},
   "source": [
    "### Stats Callback"
   ]
  },
  {
   "cell_type": "markdown",
   "metadata": {},
   "source": [
    "As mentioned above, we need two sets of metrics one for train data and one for valid data. So lets write a class that will print `average statistics for each of the data loaders`. We wil call it surpise `AvgStats`. The only functions worth remembering are:\n",
    "\n",
    "- `AvgStats.accumulate`:\n",
    "    - It has the accesse to runner object, that means it has acces to every state in the learner object. \n",
    "    - first we figure out number of elements in the batch and assign it `bn`.\n",
    "    - we multiply the loss by `bn` and add it to `tot_loss` (total_loss). \n",
    "    - we add `bn` to `cout` (that keeps track of total datapoints seen during training).\n",
    "    - Then we caculate each metric by calling it with the predictions and labels and then multiply it by `bn`. \n",
    "\n",
    "\n",
    "- `AvgStats.avg_stats`: averages the metrics with total count of element seen during training. "
   ]
  },
  {
   "cell_type": "code",
   "execution_count": 50,
   "metadata": {},
   "outputs": [],
   "source": [
    "#export\n",
    "class AvgStats():\n",
    "    def __init__(self, metrics, in_train): self.metrics,self.in_train = listify(metrics),in_train\n",
    "    \n",
    "    def reset(self):\n",
    "        self.tot_loss,self.count = 0.,0\n",
    "        self.tot_mets = [0.] * len(self.metrics)\n",
    "        \n",
    "    @property\n",
    "    def all_stats(self): return [self.tot_loss.item()] + self.tot_mets\n",
    "    @property\n",
    "    def avg_stats(self): return [o/self.count for o in self.all_stats]\n",
    "    \n",
    "    def __repr__(self):\n",
    "        if not self.count: return \"\"\n",
    "        return f\"{'train' if self.in_train else 'valid'}: {self.avg_stats}\"\n",
    "\n",
    "    def accumulate(self, run):\n",
    "        bn = run.xb.shape[0]\n",
    "        self.tot_loss += run.loss * bn\n",
    "        self.count += bn\n",
    "        for i,m in enumerate(self.metrics):\n",
    "            self.tot_mets[i] += m(run.pred, run.yb) * bn"
   ]
  },
  {
   "cell_type": "markdown",
   "metadata": {},
   "source": [
    "Now that we have our function calculate average statistics, we can write our callback that will help us to intercept metrics as our model trains and print them at the end of every epoch. We will call our callback `AvgStatsCallback`.\n",
    "\n",
    "- `AvgStatsCallback.__init__`:\n",
    "    - registers and initializes `AvgStats` for both train data and valid data. Note: since `AvgStats` takes a list of metrics and `in_train` variable we pass `True` for training and `False` for validation set.\n",
    "    \n",
    "- `AvgStatsCallback.begin_epoch`:\n",
    "    - resets the metric classes for both set of data and starts the timer.\n",
    "    \n",
    "- `AvgStatsCallback.after_loss`:\n",
    "    - After loss has been calculated in our training loop, it accumulates the stats for the data. Note we do that in with no grad block because we do not want to affect our graidients as `backward` hasn't been called yet. \n",
    "    \n",
    "- `AvgStatsCallback.after_epoch`:\n",
    "    - We prepare the stats to be printed.\n",
    "    - Also calculate the time taken for whole epoch. \n",
    "    - We finally print the stats for the last epoch.\n"
   ]
  },
  {
   "cell_type": "code",
   "execution_count": 51,
   "metadata": {},
   "outputs": [],
   "source": [
    "#export\n",
    "class AvgStatsCallback(Callback):\n",
    "    def __init__(self, metrics):\n",
    "        self.train_stats,self.valid_stats = AvgStats(metrics,True),AvgStats(metrics,False)\n",
    "    \n",
    "    def begin_fit(self):\n",
    "        met_names = ['loss'] + [m.__name__ for m in self.train_stats.metrics]\n",
    "        names = ['epoch'] + [f'train_{n}' for n in met_names] + [f'valid_{n}' for n in met_names] + ['time']\n",
    "        self.mbar.write(names, table=True)\n",
    "    \n",
    "    def begin_epoch(self):\n",
    "        self.train_stats.reset()\n",
    "        self.valid_stats.reset()\n",
    "        self.start_time = time.time()\n",
    "        \n",
    "    def after_loss(self):\n",
    "        stats = self.train_stats if self.in_train else self.valid_stats\n",
    "        with torch.no_grad(): stats.accumulate(self.run)\n",
    "    \n",
    "    def after_epoch(self):\n",
    "        stats = [str(self.epoch)] \n",
    "        for o in [self.train_stats, self.valid_stats]: stats += [f'{v:.6f}' for v in o.avg_stats] \n",
    "        stats += [format_time(time.time() - self.start_time)]\n",
    "        self.mbar.write(stats, table=True)"
   ]
  },
  {
   "cell_type": "markdown",
   "metadata": {},
   "source": [
    "Now that we have our metric reporting callback, let's use it to see some metrics while we train our model."
   ]
  },
  {
   "cell_type": "code",
   "execution_count": 52,
   "metadata": {},
   "outputs": [],
   "source": [
    "model, opt = get_model(data)\n",
    "learn = Learner(model, opt, loss_func, data)\n",
    "# we call it using partial beause it takes the name of metric we want to calculate\n",
    "cb_funcs = [partial(AvgStatsCallback, accuracy)] \n",
    "run = Runner(cb_funcs=cb_funcs)"
   ]
  },
  {
   "cell_type": "code",
   "execution_count": 53,
   "metadata": {},
   "outputs": [
    {
     "data": {
      "text/html": [
       "Total time: 00:12 <p><table style='width:450px; margin-bottom:10px'>\n",
       "  <tr>\n",
       "    <th>epoch</th>\n",
       "    <th>train_loss</th>\n",
       "    <th>train_accuracy</th>\n",
       "    <th>valid_loss</th>\n",
       "    <th>valid_accuracy</th>\n",
       "    <th>time</th>\n",
       "  </tr>\n",
       "  <tr>\n",
       "    <th>0</th>\n",
       "    <th>1.278114</th>\n",
       "    <th>0.703860</th>\n",
       "    <th>0.583156</th>\n",
       "    <th>0.867600</th>\n",
       "    <th>00:01</th>\n",
       "  </tr>\n",
       "  <tr>\n",
       "    <th>1</th>\n",
       "    <th>0.507794</th>\n",
       "    <th>0.871260</th>\n",
       "    <th>0.391459</th>\n",
       "    <th>0.899300</th>\n",
       "    <th>00:01</th>\n",
       "  </tr>\n",
       "  <tr>\n",
       "    <th>2</th>\n",
       "    <th>0.399913</th>\n",
       "    <th>0.890080</th>\n",
       "    <th>0.340323</th>\n",
       "    <th>0.908800</th>\n",
       "    <th>00:01</th>\n",
       "  </tr>\n",
       "  <tr>\n",
       "    <th>3</th>\n",
       "    <th>0.358203</th>\n",
       "    <th>0.899800</th>\n",
       "    <th>0.313430</th>\n",
       "    <th>0.913600</th>\n",
       "    <th>00:01</th>\n",
       "  </tr>\n",
       "  <tr>\n",
       "    <th>4</th>\n",
       "    <th>0.333751</th>\n",
       "    <th>0.905340</th>\n",
       "    <th>0.299343</th>\n",
       "    <th>0.915500</th>\n",
       "    <th>00:01</th>\n",
       "  </tr>\n",
       "  <tr>\n",
       "    <th>5</th>\n",
       "    <th>0.316684</th>\n",
       "    <th>0.909680</th>\n",
       "    <th>0.284148</th>\n",
       "    <th>0.919300</th>\n",
       "    <th>00:01</th>\n",
       "  </tr>\n",
       "  <tr>\n",
       "    <th>6</th>\n",
       "    <th>0.302604</th>\n",
       "    <th>0.913640</th>\n",
       "    <th>0.274289</th>\n",
       "    <th>0.923100</th>\n",
       "    <th>00:01</th>\n",
       "  </tr>\n",
       "</table>\n"
      ],
      "text/plain": [
       "<IPython.core.display.HTML object>"
      ]
     },
     "metadata": {},
     "output_type": "display_data"
    }
   ],
   "source": [
    "run.fit(7, learn)"
   ]
  },
  {
   "cell_type": "markdown",
   "metadata": {},
   "source": [
    "And Voila, we get the metric we asked for for each epoch. Note we also get the total training time."
   ]
  },
  {
   "cell_type": "markdown",
   "metadata": {},
   "source": [
    "### Plotting hyperparams and losses"
   ]
  },
  {
   "cell_type": "markdown",
   "metadata": {},
   "source": [
    "It would be nice if we can see how our loss varies during training in a plot and also see how our hyper-params change during training. We can do this with callbacks :). Let's write another callback, that records the losses during training and also the learning rate so that we can plot them later.\n",
    "\n",
    "- `Recorder.after_batch`:\n",
    "    - Appends the training loss to a list `self.losses`.\n",
    "    - Also appends the `learning rate` used for that batch."
   ]
  },
  {
   "cell_type": "code",
   "execution_count": 54,
   "metadata": {},
   "outputs": [],
   "source": [
    "#export\n",
    "class Recorder(Callback):\n",
    "    def begin_fit(self):\n",
    "        self.lrs = [[] for _ in self.opt.param_groups]\n",
    "        self.losses = []\n",
    "\n",
    "    def after_batch(self):\n",
    "        if not self.in_train: return\n",
    "        for pg,lr in zip(self.opt.param_groups,self.lrs): lr.append(pg['lr'])\n",
    "        self.losses.append(self.loss.detach().cpu())        \n",
    "\n",
    "    def plot_lr  (self, pgid=-1): plt.plot(self.lrs[pgid])\n",
    "    def plot_loss(self, skip_last=0): plt.plot(self.losses[:len(self.losses)-skip_last])\n",
    "        \n",
    "    def plot(self, skip_last=0, pgid=-1):\n",
    "        losses = [o.item() for o in self.losses]\n",
    "        lrs    = self.lrs[pgid]\n",
    "        n = len(losses)-skip_last\n",
    "        plt.xscale('log')\n",
    "        plt.plot(lrs[:n], losses[:n])"
   ]
  },
  {
   "cell_type": "markdown",
   "metadata": {},
   "source": [
    "Let's use our new `Recorder` callback."
   ]
  },
  {
   "cell_type": "code",
   "execution_count": 55,
   "metadata": {},
   "outputs": [],
   "source": [
    "model, opt = get_model(data)\n",
    "learn = Learner(model, opt, loss_func, data)\n",
    "cb_funcs = [Recorder, partial(AvgStatsCallback, accuracy)]\n",
    "run = Runner(cb_funcs=cb_funcs)"
   ]
  },
  {
   "cell_type": "code",
   "execution_count": 56,
   "metadata": {},
   "outputs": [
    {
     "data": {
      "text/html": [
       "Total time: 00:13 <p><table style='width:450px; margin-bottom:10px'>\n",
       "  <tr>\n",
       "    <th>epoch</th>\n",
       "    <th>train_loss</th>\n",
       "    <th>train_accuracy</th>\n",
       "    <th>valid_loss</th>\n",
       "    <th>valid_accuracy</th>\n",
       "    <th>time</th>\n",
       "  </tr>\n",
       "  <tr>\n",
       "    <th>0</th>\n",
       "    <th>1.245387</th>\n",
       "    <th>0.731380</th>\n",
       "    <th>0.571348</th>\n",
       "    <th>0.871100</th>\n",
       "    <th>00:01</th>\n",
       "  </tr>\n",
       "  <tr>\n",
       "    <th>1</th>\n",
       "    <th>0.499526</th>\n",
       "    <th>0.872720</th>\n",
       "    <th>0.391650</th>\n",
       "    <th>0.896800</th>\n",
       "    <th>00:01</th>\n",
       "  </tr>\n",
       "  <tr>\n",
       "    <th>2</th>\n",
       "    <th>0.397560</th>\n",
       "    <th>0.890860</th>\n",
       "    <th>0.338680</th>\n",
       "    <th>0.908400</th>\n",
       "    <th>00:02</th>\n",
       "  </tr>\n",
       "  <tr>\n",
       "    <th>3</th>\n",
       "    <th>0.357511</th>\n",
       "    <th>0.899460</th>\n",
       "    <th>0.314530</th>\n",
       "    <th>0.911600</th>\n",
       "    <th>00:01</th>\n",
       "  </tr>\n",
       "  <tr>\n",
       "    <th>4</th>\n",
       "    <th>0.333600</th>\n",
       "    <th>0.905300</th>\n",
       "    <th>0.297908</th>\n",
       "    <th>0.916500</th>\n",
       "    <th>00:02</th>\n",
       "  </tr>\n",
       "  <tr>\n",
       "    <th>5</th>\n",
       "    <th>0.316876</th>\n",
       "    <th>0.909500</th>\n",
       "    <th>0.284418</th>\n",
       "    <th>0.920800</th>\n",
       "    <th>00:02</th>\n",
       "  </tr>\n",
       "  <tr>\n",
       "    <th>6</th>\n",
       "    <th>0.303517</th>\n",
       "    <th>0.913440</th>\n",
       "    <th>0.275197</th>\n",
       "    <th>0.923000</th>\n",
       "    <th>00:02</th>\n",
       "  </tr>\n",
       "</table>\n"
      ],
      "text/plain": [
       "<IPython.core.display.HTML object>"
      ]
     },
     "metadata": {},
     "output_type": "display_data"
    }
   ],
   "source": [
    "run.fit(7, learn)"
   ]
  },
  {
   "cell_type": "markdown",
   "metadata": {},
   "source": [
    "Now, we can access the recorder callback in run to plot our `loss` and `learning rate`"
   ]
  },
  {
   "cell_type": "code",
   "execution_count": 57,
   "metadata": {},
   "outputs": [
    {
     "data": {
      "image/png": "[encoded data removed]",
      "text/plain": [
       "<Figure size 432x288 with 1 Axes>"
      ]
     },
     "metadata": {
      "needs_background": "light"
     },
     "output_type": "display_data"
    }
   ],
   "source": [
    "run.recorder.plot_loss()"
   ]
  },
  {
   "cell_type": "code",
   "execution_count": 58,
   "metadata": {},
   "outputs": [
    {
     "data": {
      "image/png": "[encoded data removed]",
      "text/plain": [
       "<Figure size 432x288 with 1 Axes>"
      ]
     },
     "metadata": {
      "needs_background": "light"
     },
     "output_type": "display_data"
    }
   ],
   "source": [
    "run.recorder.plot_lr()"
   ]
  },
  {
   "cell_type": "markdown",
   "metadata": {},
   "source": [
    "As you can see, the learning rate didn't change during training, because we never told it to. Probably it is a good idea to have some kind of schedule for our learning rate. It's a great idea, which we will implement in the next post *(Link to scheduler post: Coming soon)*. "
   ]
  },
  {
   "cell_type": "markdown",
   "metadata": {},
   "source": [
    "### Wrapup"
   ]
  },
  {
   "cell_type": "markdown",
   "metadata": {},
   "source": [
    "In this post, we started with raw pytorch and wrote a bunch of convienient classes to wrap our data `DataBunch`, Learnt about callbacks in Python, Wrote a very flexible training loop, implemented couple of callbacks to report metrics and plot losses. We will build on these classes as we continue studying more topics in deep learning."
   ]
  },
  {
   "cell_type": "markdown",
   "metadata": {},
   "source": [
    "If you made it till here, well done !!!. We have made our life super easy going forward. This investment will allow us to focus on other fun stuff such as designing better architectures, studying better optimizers, better scheduling of our hyperparameters and much more."
   ]
  },
  {
   "cell_type": "markdown",
   "metadata": {},
   "source": [
    "> **Note**: This post `heavily borrows (almost everything)` from first 2 lectures of [fast.ai](https://www.fast.ai/) part2 2019. This course hasn't been officially released. Tentative release date June 2019."
   ]
  },
  {
   "cell_type": "markdown",
   "metadata": {},
   "source": [
    "### Export as Module"
   ]
  },
  {
   "cell_type": "code",
   "execution_count": 60,
   "metadata": {},
   "outputs": [
    {
     "name": "stdout",
     "output_type": "stream",
     "text": [
      "Converted 00_data.ipynb to fastlib/nb_00.py\r\n"
     ]
    }
   ],
   "source": [
    "!python notebook2script.py 00_data.ipynb"
   ]
  },
  {
   "cell_type": "code",
   "execution_count": null,
   "metadata": {},
   "outputs": [],
   "source": []
  },
  {
   "cell_type": "code",
   "execution_count": null,
   "metadata": {},
   "outputs": [],
   "source": []
  },
  {
   "cell_type": "code",
   "execution_count": null,
   "metadata": {},
   "outputs": [],
   "source": []
  },
  {
   "cell_type": "code",
   "execution_count": null,
   "metadata": {},
   "outputs": [],
   "source": []
  },
  {
   "cell_type": "code",
   "execution_count": null,
   "metadata": {},
   "outputs": [],
   "source": []
  },
  {
   "cell_type": "code",
   "execution_count": null,
   "metadata": {},
   "outputs": [],
   "source": []
  },
  {
   "cell_type": "code",
   "execution_count": null,
   "metadata": {},
   "outputs": [],
   "source": []
  }
 ],
 "metadata": {
  "kernelspec": {
   "display_name": "fastai",
   "language": "python",
   "name": "fastai"
  },
  "language_info": {
   "codemirror_mode": {
    "name": "ipython",
    "version": 3
   },
   "file_extension": ".py",
   "mimetype": "text/x-python",
   "name": "python",
   "nbconvert_exporter": "python",
   "pygments_lexer": "ipython3",
   "version": "3.7.1"
  }
 },
 "nbformat": 4,
 "nbformat_minor": 2
}
